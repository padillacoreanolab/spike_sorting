{
 "cells": [
  {
   "cell_type": "code",
   "execution_count": 1,
   "metadata": {},
   "outputs": [],
   "source": [
    "%matplotlib inline"
   ]
  },
  {
   "cell_type": "markdown",
   "metadata": {},
   "source": [
    "# Preprocessing and Spike Sorting Tutorial"
   ]
  },
  {
   "cell_type": "markdown",
   "metadata": {},
   "source": [
    "# Chapter 1: Importing Recording Data and Metadata"
   ]
  },
  {
   "cell_type": "code",
   "execution_count": 2,
   "metadata": {},
   "outputs": [
    {
     "name": "stderr",
     "output_type": "stream",
     "text": [
      "/nancy/user/riwata/projects/spike_sorting/bin/conda_environments/env/spike_interface_env/lib/python3.7/site-packages/ipykernel_launcher.py:6: DeprecationWarning: the imp module is deprecated in favour of importlib; see the module's documentation for alternative uses\n",
      "  \n"
     ]
    }
   ],
   "source": [
    "import os\n",
    "import warnings\n",
    "import glob\n",
    "import pickle\n",
    "import _pickle as cPickle\n",
    "import imp"
   ]
  },
  {
   "cell_type": "code",
   "execution_count": 3,
   "metadata": {},
   "outputs": [],
   "source": [
    "from collections import defaultdict\n",
    "import time\n",
    "import json"
   ]
  },
  {
   "cell_type": "code",
   "execution_count": 4,
   "metadata": {},
   "outputs": [],
   "source": [
    "import matplotlib.pyplot as plt\n",
    "from matplotlib.pyplot import cm\n",
    "import numpy as np\n",
    "import pandas as pd\n",
    "import scipy.signal"
   ]
  },
  {
   "cell_type": "code",
   "execution_count": 5,
   "metadata": {},
   "outputs": [
    {
     "data": {
      "text/plain": [
       "<Figure size 640x480 with 0 Axes>"
      ]
     },
     "execution_count": 5,
     "metadata": {},
     "output_type": "execute_result"
    },
    {
     "data": {
      "text/plain": [
       "<Figure size 640x480 with 0 Axes>"
      ]
     },
     "metadata": {},
     "output_type": "display_data"
    }
   ],
   "source": [
    "# Changing the figure size\n",
    "from matplotlib.pyplot import figure\n",
    "figure(figsize=(8, 6), dpi=80)"
   ]
  },
  {
   "cell_type": "markdown",
   "metadata": {},
   "source": [
    "The spikeinterface module by itself import only the spikeinterface.core submodule\n",
    "which is not useful for end user\n",
    "\n"
   ]
  },
  {
   "cell_type": "code",
   "execution_count": 6,
   "metadata": {},
   "outputs": [],
   "source": [
    "import spikeinterface"
   ]
  },
  {
   "cell_type": "markdown",
   "metadata": {},
   "source": [
    "We need to import one by one different submodules separately (preferred).\n",
    "There are 5 modules:\n",
    "\n",
    "- :code:`extractors` : file IO\n",
    "- :code:`toolkit` : processing toolkit for pre-, post-processing, validation, and automatic curation\n",
    "- :code:`sorters` : Python wrappers of spike sorters\n",
    "- :code:`comparison` : comparison of spike sorting output\n",
    "- :code:`widgets` : visualization\n",
    "\n"
   ]
  },
  {
   "cell_type": "code",
   "execution_count": 7,
   "metadata": {},
   "outputs": [],
   "source": [
    "import spikeinterface as si  # import core only\n",
    "import spikeinterface.extractors as se\n",
    "import spikeinterface.toolkit as st\n",
    "import spikeinterface.sorters as ss\n",
    "import spikeinterface.comparison as sc\n",
    "import spikeinterface.widgets as sw"
   ]
  },
  {
   "cell_type": "code",
   "execution_count": 8,
   "metadata": {},
   "outputs": [],
   "source": [
    "import spikeinterface.core"
   ]
  },
  {
   "cell_type": "markdown",
   "metadata": {},
   "source": [
    "We can also import all submodules at once with this\n",
    "  this internally import core+extractors+toolkit+sorters+comparison+widgets+exporters\n",
    "\n",
    "This is useful for notebooks but this is a more heavy import because internally many more dependency\n",
    "are imported (scipy/sklearn/networkx/matplotlib/h5py...)\n",
    "\n"
   ]
  },
  {
   "cell_type": "code",
   "execution_count": 9,
   "metadata": {},
   "outputs": [],
   "source": [
    "import spikeinterface.full as si"
   ]
  },
  {
   "cell_type": "code",
   "execution_count": 10,
   "metadata": {},
   "outputs": [],
   "source": [
    "# Increase size of plot in jupyter\n",
    "\n",
    "plt.rcParams[\"figure.figsize\"] = (10,6)"
   ]
  },
  {
   "cell_type": "markdown",
   "metadata": {},
   "source": [
    "# Part 1: Importing Data"
   ]
  },
  {
   "cell_type": "markdown",
   "metadata": {},
   "source": [
    "## Looking at Metadata"
   ]
  },
  {
   "cell_type": "markdown",
   "metadata": {},
   "source": [
    "- Looking over the metadata file. This gives us:\n",
    "    - Original file name\n",
    "    - Clock Rate\n",
    "    - Decimation\n",
    "    - Number of Channels"
   ]
  },
  {
   "cell_type": "code",
   "execution_count": 11,
   "metadata": {},
   "outputs": [],
   "source": [
    "# Getting all the file paths of the recording files(that happen to all end in `.txt`)\n",
    "all_metadata_files = glob.glob(\"./data/*.info.dat\")"
   ]
  },
  {
   "cell_type": "markdown",
   "metadata": {},
   "source": [
    "- This is all the metadata files that you have in this directory"
   ]
  },
  {
   "cell_type": "code",
   "execution_count": 12,
   "metadata": {},
   "outputs": [
    {
     "data": {
      "text/plain": [
       "['./data/02172021_BLA4-1_3_Competition_Rec.info.dat']"
      ]
     },
     "execution_count": 12,
     "metadata": {},
     "output_type": "execute_result"
    }
   ],
   "source": [
    "all_metadata_files"
   ]
  },
  {
   "cell_type": "markdown",
   "metadata": {},
   "source": [
    "- If you have more than one metadata file, then you must either:\n",
    "    - A. Put the index of the file in `all_meta_data_files[0]` below. You would replace the `0` with the correct index. (Remember, Python is zero indexed so the first file in the list is 0. Second is 1, and so forth.\n",
    "    - B. Add a absolute or relative path to `open({./path/to/metadata_file.info.dat})` below. You would replace `{./path/to/metadata_file.info.dat}` with the path of the file for the metadata."
   ]
  },
  {
   "cell_type": "code",
   "execution_count": 13,
   "metadata": {
    "scrolled": true
   },
   "outputs": [
    {
     "name": "stdout",
     "output_type": "stream",
     "text": [
      "<Start settings>\n",
      "\n",
      "Description: Channel info for PHY data\n",
      "\n",
      "Byte_order: little endian\n",
      "\n",
      "Original_file: 02172021_BLA4-1_3_Competition_Rec.rec\n",
      "\n",
      "Clock rate: 20000\n",
      "\n",
      "Decimation: 1\n",
      "\n",
      "Number_of_channels: 32\n",
      "\n",
      "Fields: <nTrode int16><nTrodeChannel int16>\n",
      "\n",
      "<End settings>\n",
      "\n",
      "\u0001\u0000\u0000\u0000\u0002\u0000\u0000\u0000\u0003\u0000\u0000\u0000\u0004\u0000\u0000\u0000\u0005\u0000\u0000\u0000\u0006\u0000\u0000\u0000\u0007\u0000\u0000\u0000\u0000\u0000\t\u0000\u0000\u0000\n",
      "\n",
      "\u0000\u0000\u0000\u000b",
      "\u0000\u0000\u0000\f",
      "\u0000\u0000\u0000\n",
      "\n",
      "\u0000\u0000\u0000\u000e\u0000\u0000\u0000\u000f\u0000\u0000\u0000\u0010\u0000\u0000\u0000\u0011\u0000\u0000\u0000\u0012\u0000\u0000\u0000\u0013\u0000\u0000\u0000\u0014\u0000\u0000\u0000\u0015\u0000\u0000\u0000\u0016\u0000\u0000\u0000\u0017\u0000\u0000\u0000\u0018\u0000\u0000\u0000\u0019\u0000\u0000\u0000\u001a\u0000\u0000\u0000\u001b\u0000\u0000\u0000\u001c",
      "\u0000\u0000\u0000\u001d",
      "\u0000\u0000\u0000\u001e",
      "\u0000\u0000\u0000\u001f\u0000\u0000\u0000 \u0000\u0000\u0000\n"
     ]
    }
   ],
   "source": [
    "if len(all_metadata_files) < 1:\n",
    "    warnings.warn(\"There are no metadata files in the directory that you specified. Please add a file, or correct the directory path\")\n",
    "else:\n",
    "    metadata_dict = defaultdict(dict)\n",
    "    with open(all_metadata_files[0]) as info_file:\n",
    "        lines = info_file.readlines()\n",
    "        for line in lines:\n",
    "            # Reading each line of the metadata file\n",
    "            print(line)\n",
    "            split_line = line.split(\":\")\n",
    "            # Creating a dictionary with the metadata\n",
    "            # With the terms before the colon for each line is the key\n",
    "            # And all the terms after are the value\n",
    "            if len(split_line) >= 2:\n",
    "                metadata_dict[split_line[0].strip()] = \":\".join(split_line[1:]).strip()"
   ]
  },
  {
   "cell_type": "markdown",
   "metadata": {},
   "source": [
    "- Checking to see if the metadata has been extracted"
   ]
  },
  {
   "cell_type": "code",
   "execution_count": 14,
   "metadata": {},
   "outputs": [
    {
     "name": "stdout",
     "output_type": "stream",
     "text": [
      "defaultdict(<class 'dict'>, {'Description': 'Channel info for PHY data', 'Byte_order': 'little endian', 'Original_file': '02172021_BLA4-1_3_Competition_Rec.rec', 'Clock rate': '20000', 'Decimation': '1', 'Number_of_channels': '32', 'Fields': '<nTrode int16><nTrodeChannel int16>'})\n"
     ]
    }
   ],
   "source": [
    "if len(metadata_dict) >= 1:\n",
    "    metadata_exists = True\n",
    "    print(metadata_dict)\n",
    "else:\n",
    "    metadata_exists = False\n",
    "    warnings.warn(\"\"\"No metadata was able to be extracted out of the file. \n",
    "Either edit the code block above to match your format.\n",
    "Or change the format of the metadata to match something similar like these lines:  \n",
    "    \n",
    "Description: Channel info for PHY data\n",
    "Byte_order: little endian\n",
    "Original_file: 02172021_BLA4-1_3_Competition_Rec.rec\n",
    "Clock rate: 20000\n",
    "Decimation: 1\n",
    "Number_of_channels: 32\n",
    "Fields: <nTrode int16><nTrodeChannel int16>\")\n",
    "\"\"\")"
   ]
  },
  {
   "cell_type": "code",
   "execution_count": null,
   "metadata": {},
   "outputs": [],
   "source": []
  },
  {
   "cell_type": "markdown",
   "metadata": {},
   "source": [
    "## Looking at recording parameters"
   ]
  },
  {
   "cell_type": "code",
   "execution_count": 15,
   "metadata": {},
   "outputs": [],
   "source": [
    "# Getting all the file paths of the recording parameter files(that happen to all end in `.prm`)\n",
    "all_parameter_files = glob.glob(\"./data/*.prm\")"
   ]
  },
  {
   "cell_type": "code",
   "execution_count": 16,
   "metadata": {},
   "outputs": [
    {
     "data": {
      "text/plain": [
       "['./data/nancyparameters.prm']"
      ]
     },
     "execution_count": 16,
     "metadata": {},
     "output_type": "execute_result"
    }
   ],
   "source": [
    "all_parameter_files"
   ]
  },
  {
   "cell_type": "markdown",
   "metadata": {},
   "source": [
    "- If you have more than one metadata file, then you must either:\n",
    "    - A. Put the index of the file in `all_parameter_files[0]` below. You would replace the `0` with the correct index. (Remember, Python is zero indexed so the first file in the list is 0. Second is 1, and so forth.\n",
    "    - B. Add a absolute or relative path to `open({./path/to/recording_file.rec})` below. You would replace `{./path/to/recording_file.rec}` with the path of the file for the metadata."
   ]
  },
  {
   "cell_type": "code",
   "execution_count": 17,
   "metadata": {},
   "outputs": [
    {
     "name": "stdout",
     "output_type": "stream",
     "text": [
      "experiment_name = '02172021_BLA4-1_3_Competition_Rec.phy'\n",
      "\n",
      "prb_file = 'nancyprobe_linearprobelargespace.prb'  # or the path to your PRB file\n",
      "\n",
      "\n",
      "\n",
      "traces = dict(\n",
      "\n",
      "    raw_data_files=[experiment_name + '.dat'],  # path to your .dat file(s)\n",
      "\n",
      "    sample_rate=20000,  # sampling rate in Hz\n",
      "\n",
      "    n_channels=32,  # number of channels in the .dat files\n",
      "\n",
      "    dtype='int16',  # the data type used in the .dat files\n",
      "\n",
      ")\n",
      "\n",
      "\n",
      "\n",
      "# Parameters for the spike detection process.\n",
      "\n",
      "spikedetekt = dict(\n",
      "\n",
      "\n",
      "\n",
      "    filter_high_factor=0.95 * .5,\n",
      "\n",
      "    filter_butter_order=3,  # Order of Butterworth filter.\n",
      "\n",
      "\n",
      "\n",
      "\n",
      "\n",
      "    chunk_size_seconds=1,\n",
      "\n",
      "    chunk_overlap_seconds=.015,\n",
      "\n",
      "\n",
      "\n",
      "    n_excerpts=50,\n",
      "\n",
      "    excerpt_size_seconds=1,\n",
      "\n",
      "    threshold_strong_std_factor=3.5,\n",
      "\n",
      "    threshold_weak_std_factor=3,\n",
      "\n",
      "    detect_spikes='positive',\n",
      "\n",
      "    use_single_threshold=True,\n",
      "\n",
      "    connected_component_join_size=1,\n",
      "\n",
      "\n",
      "\n",
      "    extract_s_before=10,\n",
      "\n",
      "    extract_s_after=15,\n",
      "\n",
      "\n",
      "\n",
      "    n_features_per_channel=3,  # Number of features per channel.\n",
      "\n",
      "    pca_n_waveforms_max=10000,\n",
      "\n",
      ")\n",
      "\n",
      "\n",
      "\n",
      "# Parameters for the automatic clustering process.\n",
      "\n",
      "klustakwik2 = dict(\n",
      "\n",
      "    num_starting_clusters=100, max_possible_clusters=180,\n",
      "\n",
      ")\n",
      "\n"
     ]
    }
   ],
   "source": [
    "if len(all_parameter_files) < 1:\n",
    "    warnings.warn(\"There are no parameter files in the directory that you specified. Please add a file, or correct the directory path\")\n",
    "else:\n",
    "    recording_parameters = imp.load_source(\"recording_parameters\", all_parameter_files[0]) \n",
    "    with open(all_parameter_files[0]) as info_file:\n",
    "        lines = info_file.readlines()\n",
    "        for line in lines:\n",
    "            print(line)"
   ]
  },
  {
   "cell_type": "code",
   "execution_count": 18,
   "metadata": {},
   "outputs": [],
   "source": [
    "if 'recording_parameters' in locals():\n",
    "    paramater_dict = defaultdict(dict)\n",
    "    for attribute in dir(recording_parameters):\n",
    "        # Removing built in attributes\n",
    "        if not attribute.startswith(\"__\"): \n",
    "            paramater_dict[attribute] = getattr(recording_parameters, attribute)"
   ]
  },
  {
   "cell_type": "code",
   "execution_count": 19,
   "metadata": {},
   "outputs": [
    {
     "name": "stdout",
     "output_type": "stream",
     "text": [
      "experiment_name: 02172021_BLA4-1_3_Competition_Rec.phy\n",
      "klustakwik2: {'num_starting_clusters': 100, 'max_possible_clusters': 180}\n",
      "prb_file: nancyprobe_linearprobelargespace.prb\n",
      "spikedetekt: {'filter_high_factor': 0.475, 'filter_butter_order': 3, 'chunk_size_seconds': 1, 'chunk_overlap_seconds': 0.015, 'n_excerpts': 50, 'excerpt_size_seconds': 1, 'threshold_strong_std_factor': 3.5, 'threshold_weak_std_factor': 3, 'detect_spikes': 'positive', 'use_single_threshold': True, 'connected_component_join_size': 1, 'extract_s_before': 10, 'extract_s_after': 15, 'n_features_per_channel': 3, 'pca_n_waveforms_max': 10000}\n",
      "traces: {'raw_data_files': ['02172021_BLA4-1_3_Competition_Rec.phy.dat'], 'sample_rate': 20000, 'n_channels': 32, 'dtype': 'int16'}\n"
     ]
    }
   ],
   "source": [
    "if \"paramater_dict\" in locals():\n",
    "    for key, value in paramater_dict.items():\n",
    "        print(\"{}: {}\".format(key, value))"
   ]
  },
  {
   "cell_type": "markdown",
   "metadata": {},
   "source": [
    "## Loading in the Electrophysiology Recording"
   ]
  },
  {
   "cell_type": "markdown",
   "metadata": {},
   "source": [
    "- Please look at this website to see which importing method matches your data format. https://spikeinterface.readthedocs.io/en/latest/modules/extractors/plot_1_read_various_formats.html#sphx-glr-modules-extractors-plot-1-read-various-formats-py\n",
    "- You can also try tab completing `se.read_` and see what other electrophysiology data formats are accepted\n",
    "    - All the different options for importing electrophysiology data:"
   ]
  },
  {
   "cell_type": "code",
   "execution_count": 20,
   "metadata": {
    "scrolled": true
   },
   "outputs": [
    {
     "name": "stdout",
     "output_type": "stream",
     "text": [
      "read_alf_sorting\n",
      "read_bids_folder\n",
      "read_blackrock\n",
      "read_ced\n",
      "read_combinato\n",
      "read_hdsort\n",
      "read_herdingspikes\n",
      "read_intan\n",
      "read_kilosort\n",
      "read_klusta\n",
      "read_maxwell\n",
      "read_maxwell_event\n",
      "read_mcsraw\n",
      "read_mda_recording\n",
      "read_mda_sorting\n",
      "read_mearec\n",
      "read_neuralynx\n",
      "read_neuroscope\n",
      "read_nix\n",
      "read_nwb\n",
      "read_nwb_recording\n",
      "read_nwb_sorting\n",
      "read_openephys\n",
      "read_phy\n",
      "read_plexon\n",
      "read_shybrid_recording\n",
      "read_shybrid_sorting\n",
      "read_spike2\n",
      "read_spikegadgets\n",
      "read_spikeglx\n",
      "read_spykingcircus\n",
      "read_tridesclous\n",
      "read_waveclust\n",
      "read_yass\n"
     ]
    }
   ],
   "source": [
    "for method in dir(se):\n",
    "    if method.startswith(\"read\"):\n",
    "        print(method)"
   ]
  },
  {
   "cell_type": "markdown",
   "metadata": {},
   "source": [
    "- Getting a list of all the electrophysiological recording files\n",
    "    - **NOTE**: If your recording file does not end with `.rec` or is in a different directory than `./data` then you must change `glob.glob({./path/to/recording_file.rec})` below. Where you replace `{./path/to/recording_file.rec}` with the path to your recording file without the brackets."
   ]
  },
  {
   "cell_type": "code",
   "execution_count": 21,
   "metadata": {},
   "outputs": [],
   "source": [
    "# Getting all the file paths of the recording files(that happen to all end in `.txt`)\n",
    "all_recording_files = glob.glob(\"./data/*.rec\")"
   ]
  },
  {
   "cell_type": "code",
   "execution_count": 22,
   "metadata": {},
   "outputs": [
    {
     "data": {
      "text/plain": [
       "['./data/02172021_BLA4-1_3_Competition_Rec.rec']"
      ]
     },
     "execution_count": 22,
     "metadata": {},
     "output_type": "execute_result"
    }
   ],
   "source": [
    "all_recording_files"
   ]
  },
  {
   "cell_type": "markdown",
   "metadata": {},
   "source": [
    "- If you have more than one metadata file, then you must either:\n",
    "    - A. Put the index of the file in `all_meta_data_files[0]` below. You would replace the `0` with the correct index. (Remember, Python is zero indexed so the first file in the list is 0. Second is 1, and so forth.\n",
    "    - B. Add a absolute or relative path to `open({./path/to/recording_file.rec})` below. You would replace `{./path/to/recording_file.rec}` with the path of the file for the metadata."
   ]
  },
  {
   "cell_type": "markdown",
   "metadata": {},
   "source": [
    "- Reading in the data into Spikeinterface\n",
    "    - **NOTE**: If you are not using Spikegadgets to record your electrophysiological data, then you must change the `read_spikegadgets` below to the format/device that you are using. Look at list above to see which one matches yours.  "
   ]
  },
  {
   "cell_type": "code",
   "execution_count": 23,
   "metadata": {},
   "outputs": [
    {
     "name": "stdout",
     "output_type": "stream",
     "text": [
      "This extractor based on  neo.SpikeGadgetsRawIO have strange units not in (V, mV, uV) ['' '' '' '' '' '' '' '' '' '' '' '' '' '' '' '' '' '' '' '' '' '' '' ''\n",
      " '' '' '' '' '' '' '' '']\n"
     ]
    }
   ],
   "source": [
    "recording = se.read_spikegadgets(all_recording_files[0])"
   ]
  },
  {
   "cell_type": "code",
   "execution_count": 24,
   "metadata": {},
   "outputs": [
    {
     "data": {
      "text/plain": [
       "spikeinterface.extractors.neoextractors.spikegadgets.SpikeGadgetsRecordingExtractor"
      ]
     },
     "execution_count": 24,
     "metadata": {},
     "output_type": "execute_result"
    }
   ],
   "source": [
    "type(recording)"
   ]
  },
  {
   "cell_type": "markdown",
   "metadata": {},
   "source": [
    "## Plotting the electrophysiology activity"
   ]
  },
  {
   "cell_type": "markdown",
   "metadata": {},
   "source": [
    ":code:`recording` is a :code:`RecordingExtractor` object, which extracts information about channel ids, channel locations\n",
    "(if present), the sampling frequency of the recording, and the extracellular  traces. :code:`sorting_true` is a\n",
    ":code:`SortingExtractor` object, which contains information about spike-sorting related information,  including unit ids,\n",
    "spike trains, etc.\n",
    "Let's use the :code:`widgets` module to visualize the traces and the raster plots.\n",
    "\n"
   ]
  },
  {
   "cell_type": "markdown",
   "metadata": {},
   "source": [
    "- Plotting the activity for all channels for the first 5 seconds\n",
    "    - Check to see if there's any activity.\n",
    "    - You can adjust the time by changing `time_range=(0, 5)`. The first number is when the plotting starts in seconds, and the second number is the when the plotting ends."
   ]
  },
  {
   "cell_type": "code",
   "execution_count": 25,
   "metadata": {
    "scrolled": true
   },
   "outputs": [
    {
     "data": {
      "image/png": "[encoded data removed]",
      "text/plain": [
       "<Figure size 720x432 with 1 Axes>"
      ]
     },
     "metadata": {
      "needs_background": "light"
     },
     "output_type": "display_data"
    }
   ],
   "source": [
    "w_ts = sw.plot_timeseries(recording, time_range=(0, 5))\n"
   ]
  },
  {
   "cell_type": "markdown",
   "metadata": {},
   "source": [
    "## Metadata from the recording file"
   ]
  },
  {
   "cell_type": "markdown",
   "metadata": {},
   "source": [
    "This is how you retrieve info from a :code:`RecordingExtractor`...\n",
    "\n"
   ]
  },
  {
   "cell_type": "code",
   "execution_count": 26,
   "metadata": {},
   "outputs": [
    {
     "name": "stdout",
     "output_type": "stream",
     "text": [
      "Channel ids: ['0' '1' '2' '3' '4' '5' '6' '7' '8' '9' '10' '11' '12' '13' '14' '15'\n",
      " '16' '17' '18' '19' '20' '21' '22' '23' '24' '25' '26' '27' '28' '29'\n",
      " '30' '31']\n",
      "Sampling frequency: 20000.0\n",
      "Number of channels: 32\n",
      "Number of segments: 1\n",
      "Duration: 60771475\n",
      "Number of hours: 0.8440482638888889\n"
     ]
    }
   ],
   "source": [
    "channel_ids = recording.get_channel_ids()\n",
    "fs = recording.get_sampling_frequency()\n",
    "num_chan = recording.get_num_channels()\n",
    "num_seg = recording.get_num_segments()\n",
    "duration = recording.get_num_frames()\n",
    "\n",
    "print('Channel ids:', channel_ids)\n",
    "print('Sampling frequency:', fs)\n",
    "print('Number of channels:', num_chan)\n",
    "print('Number of segments:', num_seg)\n",
    "print('Duration:', duration)\n",
    "print('Number of hours:', duration/fs/3600)"
   ]
  },
  {
   "cell_type": "markdown",
   "metadata": {},
   "source": [
    ":code:`spikeinterface` internally uses the :code:`probeinterface`\n",
    "to handle Probe and ProbeGroup.\n",
    " So any probe in the probeinterface collections can be download\n",
    "and set to a Recording object.\n",
    "In this case, the MEArec dataset already handles a Probe and we don't need to set it.\n",
    "\n"
   ]
  },
  {
   "cell_type": "markdown",
   "metadata": {},
   "source": [
    "...and a :code:`SortingExtractor`\n",
    "\n"
   ]
  },
  {
   "cell_type": "markdown",
   "metadata": {},
   "source": [
    "Using the :code:`toolkit`, you can perform preprocessing on the recordings.\n",
    "Each pre-processing function also returns a :code:`RecordingExtractor`,\n",
    "which makes it easy to build pipelines. Here, we filter the recording and\n",
    "apply common median reference (CMR).\n",
    "All theses preprocessing steps are \"lazy\". The computation is done on demand when we call\n",
    "`recording.get_traces(...)` or when we save the object to disk.\n",
    "\n"
   ]
  },
  {
   "cell_type": "markdown",
   "metadata": {},
   "source": [
    "# Part 2: Setting Probes"
   ]
  },
  {
   "cell_type": "code",
   "execution_count": 27,
   "metadata": {},
   "outputs": [],
   "source": [
    "from probeinterface import get_probe\n",
    "from probeinterface.plotting import plot_probe, plot_probe_group\n",
    "from probeinterface import write_prb, read_prb"
   ]
  },
  {
   "cell_type": "markdown",
   "metadata": {},
   "source": [
    "- Adding the information about the probes used to record the electrophysiology data.\n",
    "- If you are using different probes, take a look at:\n",
    "    - https://probeinterface.readthedocs.io/_/downloads/en/latest/pdf/\n",
    "    - https://spikeinterface.readthedocs.io/en/latest/modules/core/plot_3_handle_probe_info.html#sphx-glr-modules-core-plot-3-handle-probe-info-py"
   ]
  },
  {
   "cell_type": "markdown",
   "metadata": {},
   "source": [
    "## Reading in a Probe file"
   ]
  },
  {
   "cell_type": "code",
   "execution_count": 28,
   "metadata": {},
   "outputs": [],
   "source": [
    "# Getting all the file paths of the recording parameter files(that happen to all end in `.prm`)\n",
    "all_probe_files = glob.glob(\"./data/*.prb\")"
   ]
  },
  {
   "cell_type": "code",
   "execution_count": 29,
   "metadata": {},
   "outputs": [
    {
     "data": {
      "text/plain": [
       "['./data/nancyprobe_linearprobelargespace.prb']"
      ]
     },
     "execution_count": 29,
     "metadata": {},
     "output_type": "execute_result"
    }
   ],
   "source": [
    "all_probe_files"
   ]
  },
  {
   "cell_type": "markdown",
   "metadata": {},
   "source": [
    "- If you have more than one metadata file, then you must either:\n",
    "    - A. Put the index of the file in `all_parameter_files[0]` below. You would replace the `0` with the correct index. (Remember, Python is zero indexed so the first file in the list is 0. Second is 1, and so forth.\n",
    "    - B. Add a absolute or relative path to `open({./path/to/recording_file.rec})` below. You would replace `{./path/to/recording_file.rec}` with the path of the file for the metadata."
   ]
  },
  {
   "cell_type": "code",
   "execution_count": 30,
   "metadata": {},
   "outputs": [
    {
     "name": "stdout",
     "output_type": "stream",
     "text": [
      "channel_groups = {0: {'channels': [0,\n",
      "\n",
      "                  1,\n",
      "\n",
      "                  2,\n",
      "\n",
      "                  3,\n",
      "\n",
      "                  4,\n",
      "\n",
      "                  5,\n",
      "\n",
      "                  6,\n",
      "\n",
      "                  7,\n",
      "\n",
      "                  8,\n",
      "\n",
      "                  9,\n",
      "\n",
      "                  10,\n",
      "\n",
      "                  11,\n",
      "\n",
      "                  12,\n",
      "\n",
      "                  13,\n",
      "\n",
      "                  14,\n",
      "\n",
      "                  15,\n",
      "\n",
      "                  16,\n",
      "\n",
      "                  17,\n",
      "\n",
      "                  18,\n",
      "\n",
      "                  19,\n",
      "\n",
      "                  20,\n",
      "\n",
      "                  21,\n",
      "\n",
      "                  22,\n",
      "\n",
      "                  23,\n",
      "\n",
      "                  24,\n",
      "\n",
      "                  25,\n",
      "\n",
      "                  26,\n",
      "\n",
      "                  27,\n",
      "\n",
      "                  28,\n",
      "\n",
      "                  29,\n",
      "\n",
      "                  30,\n",
      "\n",
      "                  31],\n",
      "\n",
      "     'geometry':{\n",
      "\n",
      "    0: (0, 0),\n",
      "\n",
      "    1: (5, 20),\n",
      "\n",
      "    2: (-7, 40),\n",
      "\n",
      "    3: (9, 60),\n",
      "\n",
      "    4: (-11, 80),\n",
      "\n",
      "    5: (13, 100),\n",
      "\n",
      "    6: (-15, 120),\n",
      "\n",
      "    7: (17, 140),\n",
      "\n",
      "    8: (-19, 160),\n",
      "\n",
      "    9: (21, 180),\n",
      "\n",
      "    10: (-23, 200),\n",
      "\n",
      "    11: (25, 220),\n",
      "\n",
      "    12: (-27, 240),\n",
      "\n",
      "    13: (29, 260),\n",
      "\n",
      "    14: (-31, 280),\n",
      "\n",
      "    15: (33, 300),\n",
      "\n",
      "    16: (-35, 320),\n",
      "\n",
      "    17: (37, 340),\n",
      "\n",
      "    18: (-39, 360),\n",
      "\n",
      "    19: (41, 380),\n",
      "\n",
      "    20: (-43, 400),\n",
      "\n",
      "    21: (45, 420),\n",
      "\n",
      "    22: (-47, 440),\n",
      "\n",
      "    23: (49, 460),\n",
      "\n",
      "    24: (-51, 480),\n",
      "\n",
      "    25: (53, 500),\n",
      "\n",
      "    26: (-55, 520),\n",
      "\n",
      "    27: (57, 540),\n",
      "\n",
      "    28: (-59, 560),\n",
      "\n",
      "    29: (61, 580),\n",
      "\n",
      "    30: (-63, 600),\n",
      "\n",
      "    31: (65, 620),\n",
      "\n",
      "},\n",
      "\n",
      "     'graph': [(0, 1),\n",
      "\n",
      "               (1, 2),\n",
      "\n",
      "               (2, 3),\n",
      "\n",
      "               (3, 4),\n",
      "\n",
      "               (4, 5),\n",
      "\n",
      "               (5, 6),\n",
      "\n",
      "               (6, 7),\n",
      "\n",
      "               (7, 8),\n",
      "\n",
      "               (8, 9),\n",
      "\n",
      "               (9, 10),\n",
      "\n",
      "               (10, 11),\n",
      "\n",
      "               (11, 12),\n",
      "\n",
      "               (12, 13),\n",
      "\n",
      "               (13, 14),\n",
      "\n",
      "               (14, 15),\n",
      "\n",
      "               (15, 16),\n",
      "\n",
      "               (16, 17),\n",
      "\n",
      "               (17, 18),\n",
      "\n",
      "               (18, 19),\n",
      "\n",
      "               (19, 20),\n",
      "\n",
      "               (20, 21),\n",
      "\n",
      "               (21, 22),\n",
      "\n",
      "               (22, 23),\n",
      "\n",
      "               (23, 24),\n",
      "\n",
      "               (24, 25),\n",
      "\n",
      "               (25, 26),\n",
      "\n",
      "               (26, 27),\n",
      "\n",
      "               (27, 28),\n",
      "\n",
      "               (28, 29),\n",
      "\n",
      "               (29, 30),\n",
      "\n",
      "               (30, 31)]}}\n",
      "\n"
     ]
    }
   ],
   "source": [
    "if len(all_probe_files) < 1:\n",
    "    warnings.warn(\"There are no parameter files in the directory that you specified. Please add a file, or correct the directory path\")\n",
    "else:\n",
    "    probe_parameters = imp.load_source(\"probe_parameters\", all_probe_files[0])\n",
    "    with open(all_probe_files[0]) as info_file:\n",
    "        lines = info_file.readlines()\n",
    "        for line in lines:\n",
    "            print(line)"
   ]
  },
  {
   "cell_type": "markdown",
   "metadata": {},
   "source": [
    "- Reading in the probe information into Spike interface and plotting the probe"
   ]
  },
  {
   "cell_type": "code",
   "execution_count": 31,
   "metadata": {},
   "outputs": [
    {
     "name": "stdout",
     "output_type": "stream",
     "text": [
      "This extractor based on  neo.SpikeGadgetsRawIO have strange units not in (V, mV, uV) ['' '' '' '' '' '' '' '' '' '' '' '' '' '' '' '' '' '' '' '' '' '' '' ''\n",
      " '' '' '' '' '' '' '' '']\n"
     ]
    },
    {
     "data": {
      "image/png": "[encoded data removed]",
      "text/plain": [
       "<Figure size 720x432 with 1 Axes>"
      ]
     },
     "metadata": {
      "needs_background": "light"
     },
     "output_type": "display_data"
    }
   ],
   "source": [
    "if len(all_probe_files) < 1:\n",
    "    warnings.warn(\"There are no parameter files in the directory that you specified. Please add a file, or correct the directory path\")\n",
    "else:\n",
    "    # Reading in the probe data\n",
    "    probe_object = read_prb(all_probe_files[0])\n",
    "    # Setting the probe to the recording object\n",
    "    recording = recording.set_probes(probe_object)\n",
    "    # Plotting the probe configuration\n",
    "    plot_probe_group(probe_object, same_axes=False, with_channel_index=True)\n",
    "    plt.show()"
   ]
  },
  {
   "cell_type": "markdown",
   "metadata": {},
   "source": [
    "- Creating a dictionary of all the variables in the probe file"
   ]
  },
  {
   "cell_type": "code",
   "execution_count": 32,
   "metadata": {},
   "outputs": [],
   "source": [
    "if 'probe_parameters' in locals():\n",
    "    probe_dict = defaultdict(dict)\n",
    "    for attribute in dir(probe_parameters):\n",
    "        # Removing built in attributes\n",
    "        if not attribute.startswith(\"__\"): \n",
    "            probe_dict[attribute] = getattr(probe_parameters, attribute)"
   ]
  },
  {
   "cell_type": "code",
   "execution_count": 33,
   "metadata": {
    "scrolled": true
   },
   "outputs": [
    {
     "name": "stdout",
     "output_type": "stream",
     "text": [
      "channel_groups: {0: {'channels': [0, 1, 2, 3, 4, 5, 6, 7, 8, 9, 10, 11, 12, 13, 14, 15, 16, 17, 18, 19, 20, 21, 22, 23, 24, 25, 26, 27, 28, 29, 30, 31], 'geometry': {0: (0, 0), 1: (5, 20), 2: (-7, 40), 3: (9, 60), 4: (-11, 80), 5: (13, 100), 6: (-15, 120), 7: (17, 140), 8: (-19, 160), 9: (21, 180), 10: (-23, 200), 11: (25, 220), 12: (-27, 240), 13: (29, 260), 14: (-31, 280), 15: (33, 300), 16: (-35, 320), 17: (37, 340), 18: (-39, 360), 19: (41, 380), 20: (-43, 400), 21: (45, 420), 22: (-47, 440), 23: (49, 460), 24: (-51, 480), 25: (53, 500), 26: (-55, 520), 27: (57, 540), 28: (-59, 560), 29: (61, 580), 30: (-63, 600), 31: (65, 620)}, 'graph': [(0, 1), (1, 2), (2, 3), (3, 4), (4, 5), (5, 6), (6, 7), (7, 8), (8, 9), (9, 10), (10, 11), (11, 12), (12, 13), (13, 14), (14, 15), (15, 16), (16, 17), (17, 18), (18, 19), (19, 20), (20, 21), (21, 22), (22, 23), (23, 24), (24, 25), (25, 26), (26, 27), (27, 28), (28, 29), (29, 30), (30, 31)]}}\n"
     ]
    }
   ],
   "source": [
    "if \"probe_dict\" in locals():\n",
    "    for key, value in probe_dict.items():\n",
    "        print(\"{}: {}\".format(key, value))"
   ]
  },
  {
   "cell_type": "markdown",
   "metadata": {},
   "source": [
    "# Part 2.1 Making a probe from scratch"
   ]
  },
  {
   "cell_type": "markdown",
   "metadata": {},
   "source": [
    "## NOTE: If you do not have a probe file, you must make a probe from scratch"
   ]
  },
  {
   "cell_type": "code",
   "execution_count": 34,
   "metadata": {},
   "outputs": [],
   "source": [
    "import itertools"
   ]
  },
  {
   "cell_type": "code",
   "execution_count": 35,
   "metadata": {},
   "outputs": [],
   "source": [
    "from probeinterface import Probe, ProbeGroup\n",
    "from probeinterface import Probe\n",
    "from probeinterface.plotting import plot_probe_group\n",
    "from probeinterface.plotting import plot_probe"
   ]
  },
  {
   "cell_type": "code",
   "execution_count": 36,
   "metadata": {},
   "outputs": [],
   "source": [
    "from probeinterface import generate_linear_probe, generate_multi_shank\n",
    "from probeinterface.generator import generate_tetrode\n",
    "from probeinterface.generator import generate_linear_probe\n",
    "from probeinterface.generator import generate_multi_columns_probe"
   ]
  },
  {
   "cell_type": "markdown",
   "metadata": {},
   "source": [
    "- Making 8 tetrodes for 32 channels"
   ]
  },
  {
   "cell_type": "code",
   "execution_count": 37,
   "metadata": {},
   "outputs": [],
   "source": [
    "probegroup = ProbeGroup()\n",
    "# The difference in position for the X and Y axis of all the tetrodes\n",
    "x_difference = [0, 40, 80, 120]\n",
    "y_difference = [0, 40]\n",
    "# Getting a combination of all the X and Y differences\n",
    "difference_combinations = list(itertools.product(x_difference, y_difference))\n",
    "\n",
    "for num in range(8):   \n",
    "    # Creating a new tetrode\n",
    "    current_tetrode = generate_tetrode()\n",
    "    # Moving the tetrode\n",
    "    current_tetrode.move([difference_combinations[num][0], difference_combinations[num][1]])\n",
    "    # Adding the tetrode to the group\n",
    "    probegroup.add_probe(current_tetrode)\n",
    "\n",
    "# Setting the indices of the channels\n",
    "probegroup.set_global_device_channel_indices(np.arange(32))"
   ]
  },
  {
   "cell_type": "code",
   "execution_count": 38,
   "metadata": {},
   "outputs": [
    {
     "data": {
      "text/plain": [
       "32"
      ]
     },
     "execution_count": 38,
     "metadata": {},
     "output_type": "execute_result"
    }
   ],
   "source": [
    "# Number of channels\n",
    "probegroup.get_channel_count()"
   ]
  },
  {
   "cell_type": "code",
   "execution_count": 39,
   "metadata": {},
   "outputs": [
    {
     "data": {
      "text/plain": [
       "array([(0,  0), (0,  1), (0,  2), (0,  3), (1,  4), (1,  5), (1,  6),\n",
       "       (1,  7), (2,  8), (2,  9), (2, 10), (2, 11), (3, 12), (3, 13),\n",
       "       (3, 14), (3, 15), (4, 16), (4, 17), (4, 18), (4, 19), (5, 20),\n",
       "       (5, 21), (5, 22), (5, 23), (6, 24), (6, 25), (6, 26), (6, 27),\n",
       "       (7, 28), (7, 29), (7, 30), (7, 31)],\n",
       "      dtype=[('probe_index', '<i8'), ('device_channel_indices', '<i8')])"
      ]
     },
     "execution_count": 39,
     "metadata": {},
     "output_type": "execute_result"
    }
   ],
   "source": [
    "# The IDs of the probes\n",
    "probegroup.get_global_device_channel_indices()"
   ]
  },
  {
   "cell_type": "code",
   "execution_count": 40,
   "metadata": {},
   "outputs": [
    {
     "data": {
      "image/png": "[encoded data removed]",
      "text/plain": [
       "<Figure size 720x432 with 1 Axes>"
      ]
     },
     "metadata": {
      "needs_background": "light"
     },
     "output_type": "display_data"
    }
   ],
   "source": [
    "# What all the probes look like\n",
    "plot_probe_group(probegroup, same_axes=True, with_channel_index=True)"
   ]
  },
  {
   "cell_type": "code",
   "execution_count": 41,
   "metadata": {},
   "outputs": [
    {
     "data": {
      "text/html": [
       "<div>\n",
       "<style scoped>\n",
       "    .dataframe tbody tr th:only-of-type {\n",
       "        vertical-align: middle;\n",
       "    }\n",
       "\n",
       "    .dataframe tbody tr th {\n",
       "        vertical-align: top;\n",
       "    }\n",
       "\n",
       "    .dataframe thead th {\n",
       "        text-align: right;\n",
       "    }\n",
       "</style>\n",
       "<table border=\"1\" class=\"dataframe\">\n",
       "  <thead>\n",
       "    <tr style=\"text-align: right;\">\n",
       "      <th></th>\n",
       "      <th>probe_index</th>\n",
       "      <th>x</th>\n",
       "      <th>y</th>\n",
       "      <th>contact_shapes</th>\n",
       "      <th>radius</th>\n",
       "      <th>shank_ids</th>\n",
       "      <th>contact_ids</th>\n",
       "    </tr>\n",
       "  </thead>\n",
       "  <tbody>\n",
       "    <tr>\n",
       "      <th>0</th>\n",
       "      <td>0</td>\n",
       "      <td>1.000000e+01</td>\n",
       "      <td>0.000000e+00</td>\n",
       "      <td>circle</td>\n",
       "      <td>6.0</td>\n",
       "      <td></td>\n",
       "      <td></td>\n",
       "    </tr>\n",
       "    <tr>\n",
       "      <th>1</th>\n",
       "      <td>0</td>\n",
       "      <td>6.123234e-16</td>\n",
       "      <td>1.000000e+01</td>\n",
       "      <td>circle</td>\n",
       "      <td>6.0</td>\n",
       "      <td></td>\n",
       "      <td></td>\n",
       "    </tr>\n",
       "    <tr>\n",
       "      <th>2</th>\n",
       "      <td>0</td>\n",
       "      <td>-1.000000e+01</td>\n",
       "      <td>1.224647e-15</td>\n",
       "      <td>circle</td>\n",
       "      <td>6.0</td>\n",
       "      <td></td>\n",
       "      <td></td>\n",
       "    </tr>\n",
       "    <tr>\n",
       "      <th>3</th>\n",
       "      <td>0</td>\n",
       "      <td>-1.836970e-15</td>\n",
       "      <td>-1.000000e+01</td>\n",
       "      <td>circle</td>\n",
       "      <td>6.0</td>\n",
       "      <td></td>\n",
       "      <td></td>\n",
       "    </tr>\n",
       "    <tr>\n",
       "      <th>4</th>\n",
       "      <td>1</td>\n",
       "      <td>1.000000e+01</td>\n",
       "      <td>4.000000e+01</td>\n",
       "      <td>circle</td>\n",
       "      <td>6.0</td>\n",
       "      <td></td>\n",
       "      <td></td>\n",
       "    </tr>\n",
       "    <tr>\n",
       "      <th>5</th>\n",
       "      <td>1</td>\n",
       "      <td>6.123234e-16</td>\n",
       "      <td>5.000000e+01</td>\n",
       "      <td>circle</td>\n",
       "      <td>6.0</td>\n",
       "      <td></td>\n",
       "      <td></td>\n",
       "    </tr>\n",
       "    <tr>\n",
       "      <th>6</th>\n",
       "      <td>1</td>\n",
       "      <td>-1.000000e+01</td>\n",
       "      <td>4.000000e+01</td>\n",
       "      <td>circle</td>\n",
       "      <td>6.0</td>\n",
       "      <td></td>\n",
       "      <td></td>\n",
       "    </tr>\n",
       "    <tr>\n",
       "      <th>7</th>\n",
       "      <td>1</td>\n",
       "      <td>-1.836970e-15</td>\n",
       "      <td>3.000000e+01</td>\n",
       "      <td>circle</td>\n",
       "      <td>6.0</td>\n",
       "      <td></td>\n",
       "      <td></td>\n",
       "    </tr>\n",
       "    <tr>\n",
       "      <th>8</th>\n",
       "      <td>2</td>\n",
       "      <td>5.000000e+01</td>\n",
       "      <td>0.000000e+00</td>\n",
       "      <td>circle</td>\n",
       "      <td>6.0</td>\n",
       "      <td></td>\n",
       "      <td></td>\n",
       "    </tr>\n",
       "    <tr>\n",
       "      <th>9</th>\n",
       "      <td>2</td>\n",
       "      <td>4.000000e+01</td>\n",
       "      <td>1.000000e+01</td>\n",
       "      <td>circle</td>\n",
       "      <td>6.0</td>\n",
       "      <td></td>\n",
       "      <td></td>\n",
       "    </tr>\n",
       "    <tr>\n",
       "      <th>10</th>\n",
       "      <td>2</td>\n",
       "      <td>3.000000e+01</td>\n",
       "      <td>1.224647e-15</td>\n",
       "      <td>circle</td>\n",
       "      <td>6.0</td>\n",
       "      <td></td>\n",
       "      <td></td>\n",
       "    </tr>\n",
       "    <tr>\n",
       "      <th>11</th>\n",
       "      <td>2</td>\n",
       "      <td>4.000000e+01</td>\n",
       "      <td>-1.000000e+01</td>\n",
       "      <td>circle</td>\n",
       "      <td>6.0</td>\n",
       "      <td></td>\n",
       "      <td></td>\n",
       "    </tr>\n",
       "  </tbody>\n",
       "</table>\n",
       "</div>"
      ],
      "text/plain": [
       "    probe_index             x             y contact_shapes  radius shank_ids  \\\n",
       "0             0  1.000000e+01  0.000000e+00         circle     6.0             \n",
       "1             0  6.123234e-16  1.000000e+01         circle     6.0             \n",
       "2             0 -1.000000e+01  1.224647e-15         circle     6.0             \n",
       "3             0 -1.836970e-15 -1.000000e+01         circle     6.0             \n",
       "4             1  1.000000e+01  4.000000e+01         circle     6.0             \n",
       "5             1  6.123234e-16  5.000000e+01         circle     6.0             \n",
       "6             1 -1.000000e+01  4.000000e+01         circle     6.0             \n",
       "7             1 -1.836970e-15  3.000000e+01         circle     6.0             \n",
       "8             2  5.000000e+01  0.000000e+00         circle     6.0             \n",
       "9             2  4.000000e+01  1.000000e+01         circle     6.0             \n",
       "10            2  3.000000e+01  1.224647e-15         circle     6.0             \n",
       "11            2  4.000000e+01 -1.000000e+01         circle     6.0             \n",
       "\n",
       "   contact_ids  \n",
       "0               \n",
       "1               \n",
       "2               \n",
       "3               \n",
       "4               \n",
       "5               \n",
       "6               \n",
       "7               \n",
       "8               \n",
       "9               \n",
       "10              \n",
       "11              "
      ]
     },
     "execution_count": 41,
     "metadata": {},
     "output_type": "execute_result"
    }
   ],
   "source": [
    "# The X and Y position of the probes\n",
    "probegroup.to_dataframe().head(n=12)"
   ]
  },
  {
   "cell_type": "markdown",
   "metadata": {},
   "source": [
    "- Uncomment this if you want to use the tetrodes as the probes instead"
   ]
  },
  {
   "cell_type": "raw",
   "metadata": {},
   "source": [
    "# Setting the recording's probes as the tetrodes \n",
    "recording = recording.set_probes(probegroup)"
   ]
  },
  {
   "cell_type": "markdown",
   "metadata": {},
   "source": [
    "### Multishank Probe"
   ]
  },
  {
   "cell_type": "code",
   "execution_count": 42,
   "metadata": {},
   "outputs": [],
   "source": [
    "multi_shank = generate_multi_shank(num_shank=32, num_columns=1, num_contact_per_column=1)"
   ]
  },
  {
   "cell_type": "code",
   "execution_count": 43,
   "metadata": {
    "scrolled": true
   },
   "outputs": [
    {
     "data": {
      "text/plain": [
       "(<matplotlib.collections.PolyCollection at 0x7fd1eea30b90>,\n",
       " <matplotlib.collections.PolyCollection at 0x7fd1eea160d0>)"
      ]
     },
     "execution_count": 43,
     "metadata": {},
     "output_type": "execute_result"
    },
    {
     "data": {
      "image/png": "[encoded data removed]",
      "text/plain": [
       "<Figure size 720x432 with 1 Axes>"
      ]
     },
     "metadata": {
      "needs_background": "light"
     },
     "output_type": "display_data"
    }
   ],
   "source": [
    "plot_probe(multi_shank, with_channel_index=True)"
   ]
  },
  {
   "cell_type": "code",
   "execution_count": 44,
   "metadata": {},
   "outputs": [],
   "source": [
    "multi_shank.set_device_channel_indices(np.arange(num_chan))"
   ]
  },
  {
   "cell_type": "markdown",
   "metadata": {},
   "source": [
    "- Turn the cell below into a code block if you want to use the multishank probes as the probes instead"
   ]
  },
  {
   "cell_type": "raw",
   "metadata": {},
   "source": [
    "recording = recording.set_probes(multi_shank)"
   ]
  },
  {
   "cell_type": "markdown",
   "metadata": {},
   "source": [
    "# Saving the Recording Files for the Next Notebook"
   ]
  },
  {
   "cell_type": "markdown",
   "metadata": {},
   "source": [
    "- Creating an output folder based on the recording file name"
   ]
  },
  {
   "cell_type": "code",
   "execution_count": 45,
   "metadata": {},
   "outputs": [],
   "source": [
    "recording_file_name = os.path.basename(all_recording_files[0])\n",
    "recording_file_root = os.path.splitext(recording_file_name)[0]"
   ]
  },
  {
   "cell_type": "code",
   "execution_count": 46,
   "metadata": {},
   "outputs": [
    {
     "data": {
      "text/plain": [
       "'02172021_BLA4-1_3_Competition_Rec'"
      ]
     },
     "execution_count": 46,
     "metadata": {},
     "output_type": "execute_result"
    }
   ],
   "source": [
    "recording_file_root"
   ]
  },
  {
   "cell_type": "markdown",
   "metadata": {},
   "source": [
    "- Alternatively, you can use the file name provided by the metadata file or the experiment name in the parameter file\n",
    "    - If you want to use either of these, you must make the boxes below into a code block"
   ]
  },
  {
   "cell_type": "raw",
   "metadata": {},
   "source": [
    "try:\n",
    "    recording_file_name = os.path.basename(metadata_dict[\"Original_file\"])\n",
    "    recording_file_root = os.path.splitext(recording_file_name)[0]\n",
    "    print(recording_file_root)\n",
    "except:\n",
    "    warnings.warn(\"The metadata file does not exist. Please update the path or turn this code block into a Raw NBConvert\")"
   ]
  },
  {
   "cell_type": "raw",
   "metadata": {},
   "source": [
    "try:\n",
    "    recording_file_name = os.path.basename(recording_parameters.experiment_name)\n",
    "    recording_file_root = os.path.splitext(recording_file_name)[0]\n",
    "    print(recording_file_root)\n",
    "except:\n",
    "    warnings.warn(\"The parameter file does not exist. Please update the path or turn this code block into a Raw NBConvert\")"
   ]
  },
  {
   "cell_type": "code",
   "execution_count": 47,
   "metadata": {},
   "outputs": [],
   "source": [
    "parent_output_directory = \"./proc/{}\".format(recording_file_root)"
   ]
  },
  {
   "cell_type": "code",
   "execution_count": 48,
   "metadata": {},
   "outputs": [
    {
     "data": {
      "text/plain": [
       "'./proc/02172021_BLA4-1_3_Competition_Rec'"
      ]
     },
     "execution_count": 48,
     "metadata": {},
     "output_type": "execute_result"
    }
   ],
   "source": [
    "parent_output_directory"
   ]
  },
  {
   "cell_type": "code",
   "execution_count": 49,
   "metadata": {},
   "outputs": [],
   "source": [
    "os.makedirs(parent_output_directory, exist_ok=True)"
   ]
  },
  {
   "cell_type": "code",
   "execution_count": 50,
   "metadata": {},
   "outputs": [],
   "source": [
    "recording_output_directory = os.path.join(parent_output_directory, \"raw_recording\")\n"
   ]
  },
  {
   "cell_type": "code",
   "execution_count": 51,
   "metadata": {},
   "outputs": [
    {
     "data": {
      "text/plain": [
       "'./proc/02172021_BLA4-1_3_Competition_Rec/raw_recording'"
      ]
     },
     "execution_count": 51,
     "metadata": {},
     "output_type": "execute_result"
    }
   ],
   "source": [
    "recording_output_directory"
   ]
  },
  {
   "cell_type": "code",
   "execution_count": 52,
   "metadata": {},
   "outputs": [
    {
     "name": "stdout",
     "output_type": "stream",
     "text": [
      "write_binary_recording with n_jobs 1  chunk_size None\n",
      "This extractor based on  neo.SpikeGadgetsRawIO have strange units not in (V, mV, uV) ['' '' '' '' '' '' '' '' '' '' '' '' '' '' '' '' '' '' '' '' '' '' '' ''\n",
      " '' '' '' '' '' '' '' '']\n"
     ]
    }
   ],
   "source": [
    "if not os.path.exists(recording_output_directory):\n",
    "    recording.save_to_folder(name=\"raw_recording\", folder=recording_output_directory)\n",
    "else:\n",
    "    warnings.warn(\"\"\"Directory already exists for: {}. \n",
    "    Either continue on if you are satisfied with the previous run \n",
    "    or delete the directory and run this cell again\"\"\".format(recording_output_directory))"
   ]
  }
 ],
 "metadata": {
  "kernelspec": {
   "display_name": "Python 3 (ipykernel)",
   "language": "python",
   "name": "python3"
  },
  "language_info": {
   "codemirror_mode": {
    "name": "ipython",
    "version": 3
   },
   "file_extension": ".py",
   "mimetype": "text/x-python",
   "name": "python",
   "nbconvert_exporter": "python",
   "pygments_lexer": "ipython3",
   "version": "3.7.12"
  }
 },
 "nbformat": 4,
 "nbformat_minor": 1
}
